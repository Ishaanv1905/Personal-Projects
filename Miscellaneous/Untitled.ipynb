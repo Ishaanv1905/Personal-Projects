{
 "cells": [
  {
   "cell_type": "code",
   "execution_count": 19,
   "id": "3944c23f-b4ad-4281-bc93-1ac2b0da95e3",
   "metadata": {},
   "outputs": [
    {
     "name": "stdout",
     "output_type": "stream",
     "text": [
      "[0, 1, 2, 3, 4, 5, 6, 7, 8]\n"
     ]
    }
   ],
   "source": [
    "list=[0,1,2,3,4,5,6,7,8]\n",
    "print(list)"
   ]
  },
  {
   "cell_type": "code",
   "execution_count": 20,
   "id": "09d8232a-61cd-447a-a4a9-980f8aacbc88",
   "metadata": {},
   "outputs": [],
   "source": [
    "def grid():\n",
    "    print(\" \",list[0],\" | \",list[1],\" | \",list[2],\" \")\n",
    "    print(\"-----------------\")\n",
    "    print(\" \",list[3],\" | \",list[4],\" | \",list[5],\" \")\n",
    "    print(\"-----------------\")\n",
    "    print(\" \",list[6],\" | \",list[7],\" | \",list[8],\" \")"
   ]
  },
  {
   "cell_type": "code",
   "execution_count": 21,
   "id": "26e62d9f-2ce9-45f2-bb5b-fd14a92fe3bf",
   "metadata": {},
   "outputs": [
    {
     "name": "stdout",
     "output_type": "stream",
     "text": [
      "  0  |  1  |  2  \n",
      "-----------------\n",
      "  3  |  4  |  5  \n",
      "-----------------\n",
      "  6  |  7  |  8  \n"
     ]
    }
   ],
   "source": [
    "grid()"
   ]
  },
  {
   "cell_type": "code",
   "execution_count": 22,
   "id": "502675c1-e94d-4c6e-81bc-dcb296d5aa22",
   "metadata": {},
   "outputs": [
    {
     "name": "stdin",
     "output_type": "stream",
     "text": [
      "player X choose position(0 to 8) first:  1\n"
     ]
    },
    {
     "name": "stdout",
     "output_type": "stream",
     "text": [
      "  0  |  X  |  2  \n",
      "-----------------\n",
      "  3  |  4  |  5  \n",
      "-----------------\n",
      "  6  |  7  |  8  \n"
     ]
    }
   ],
   "source": [
    "playerX=input(\"player X choose position(0 to 8) first: \")\n",
    "#print(playerX)\n",
    "list[int(playerX)]=\"X\"\n",
    "grid()"
   ]
  },
  {
   "cell_type": "code",
   "execution_count": 23,
   "id": "00027a95-856f-4b04-854b-06828329dbf5",
   "metadata": {},
   "outputs": [
    {
     "name": "stdin",
     "output_type": "stream",
     "text": [
      "player O choose position:  2\n"
     ]
    },
    {
     "name": "stdout",
     "output_type": "stream",
     "text": [
      "  0  |  X  |  O  \n",
      "-----------------\n",
      "  3  |  4  |  5  \n",
      "-----------------\n",
      "  6  |  7  |  8  \n"
     ]
    }
   ],
   "source": [
    "playerO=input(\"player O choose position: \")\n",
    "list[int(playerO)]=\"O\"\n",
    "grid()"
   ]
  },
  {
   "cell_type": "code",
   "execution_count": null,
   "id": "e7fa46f5-cf8d-4808-a363-68c1a16c5ca6",
   "metadata": {},
   "outputs": [],
   "source": []
  }
 ],
 "metadata": {
  "kernelspec": {
   "display_name": "Python 3 (ipykernel)",
   "language": "python",
   "name": "python3"
  },
  "language_info": {
   "codemirror_mode": {
    "name": "ipython",
    "version": 3
   },
   "file_extension": ".py",
   "mimetype": "text/x-python",
   "name": "python",
   "nbconvert_exporter": "python",
   "pygments_lexer": "ipython3",
   "version": "3.12.1"
  }
 },
 "nbformat": 4,
 "nbformat_minor": 5
}
