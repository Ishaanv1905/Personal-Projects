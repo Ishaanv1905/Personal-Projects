{
 "cells": [
  {
   "cell_type": "code",
   "execution_count": 3,
   "id": "4c93d1b2-c993-47d4-be9c-3fb60df319c2",
   "metadata": {},
   "outputs": [],
   "source": [
    "import os\n",
    "import cv2\n",
    "import numpy as np\n",
    "import csv"
   ]
  },
  {
   "cell_type": "code",
   "execution_count": 4,
   "id": "5cc8b913-c602-49f5-bbc5-1c0ac1b61501",
   "metadata": {},
   "outputs": [],
   "source": [
    "def load_images(folder_path, label):\n",
    "    images = []\n",
    "    labels = []\n",
    "    \n",
    "    for image_name in os.listdir(folder_path):\n",
    "        image_path = os.path.join(folder_path, image_name)\n",
    "        \n",
    "        if not image_path.endswith(('.jpg', '.jpeg', '.png')):\n",
    "            continue\n",
    "        \n",
    "        image = cv2.imread(image_path, cv2.IMREAD_GRAYSCALE)\n",
    "        resized_image = cv2.resize(image, (28, 28))\n",
    "        \n",
    "        normalized_image = resized_image \n",
    "        \n",
    "        images.append(normalized_image.flatten())  \n",
    "        labels.append(label)\n",
    "        \n",
    "    return images, labels"
   ]
  },
  {
   "cell_type": "code",
   "execution_count": 6,
   "id": "31f83997-6997-4d23-9eaa-2e0688da14f6",
   "metadata": {},
   "outputs": [
    {
     "name": "stdout",
     "output_type": "stream",
     "text": [
      "CSV file 'TrainingData.csv' created successfully.\n"
     ]
    }
   ],
   "source": [
    "base_path = \"C:\\\\Users\\\\Ishaan Verma\\\\Downloads\\\\train\\\\trAIN\"\n",
    "\n",
    "output_csv_path = 'TrainingData.csv'\n",
    "\n",
    "with open(output_csv_path, mode='w', newline='') as csv_file:\n",
    "    csv_writer = csv.writer(csv_file)\n",
    "    \n",
    "    header = ['label'] + [f'pixel_{i}' for i in range(784)]  #\n",
    "    csv_writer.writerow(header)\n",
    "    \n",
    "    label_counter = 0\n",
    "    \n",
    "    for folder_name in os.listdir(base_path):\n",
    "        class_folder_path = os.path.join(base_path, folder_name)\n",
    "        \n",
    "        images, labels = load_images(class_folder_path, label_counter)\n",
    "        \n",
    "        for i in range(len(images)):\n",
    "            csv_writer.writerow([labels[i]] + list(images[i]))\n",
    "        \n",
    "        label_counter += 1\n",
    "\n",
    "print(f\"CSV file '{output_csv_path}' created successfully.\")"
   ]
  }
 ],
 "metadata": {
  "kernelspec": {
   "display_name": "Python 3 (ipykernel)",
   "language": "python",
   "name": "python3"
  },
  "language_info": {
   "codemirror_mode": {
    "name": "ipython",
    "version": 3
   },
   "file_extension": ".py",
   "mimetype": "text/x-python",
   "name": "python",
   "nbconvert_exporter": "python",
   "pygments_lexer": "ipython3",
   "version": "3.12.1"
  }
 },
 "nbformat": 4,
 "nbformat_minor": 5
}
